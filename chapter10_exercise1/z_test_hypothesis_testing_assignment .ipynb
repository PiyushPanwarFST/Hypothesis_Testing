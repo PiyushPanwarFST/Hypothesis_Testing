{
 "cells": [
  {
   "cell_type": "markdown",
   "id": "65671fc3",
   "metadata": {},
   "source": [
    "## Problem Statement\n",
    "\n",
    "You are a data scientist at a business efficiency consulting firm. Your client, a multinational corporation, has recently implemented a series of cost-saving measures across various departments.  To evaluate the impact of these initiatives, the company has compiled a sample dataset named **\"operational_costs_data.csv\"**. This sample dataset tracks the percentage reduction in operational costs for each department post-implementation of the cost-saving activities. The dataset includes the following columns:\n",
    "\n",
    "\n",
    "\n",
    "- **department_id:** A unique identifier for each department.\n",
    "- **cost_reduction_pct:** The percentage reduction in operational costs for each department following the cost-saving measures..\n",
    "\n",
    "The primary goal of the analysis is to determine whether these cost-saving measures have effectively reduced operational costs beyond the company's target of 8%. "
   ]
  },
  {
   "cell_type": "code",
   "execution_count": 9,
   "id": "b5bfa9a7",
   "metadata": {},
   "outputs": [],
   "source": [
    "#given population parameters\n",
    "\n",
    "population_mean = 7  #(indicating an average cost reduction target of 7% before the series of cost-saving measures).\n",
    "population_std_dev = 3  #(variability)."
   ]
  },
  {
   "cell_type": "code",
   "execution_count": null,
   "id": "529df852",
   "metadata": {},
   "outputs": [],
   "source": []
  },
  {
   "cell_type": "markdown",
   "id": "9f26dfcf",
   "metadata": {},
   "source": [
    "**Import Necessary Libraries**"
   ]
  },
  {
   "cell_type": "code",
   "execution_count": null,
   "id": "45e6bd30",
   "metadata": {},
   "outputs": [],
   "source": []
  },
  {
   "cell_type": "code",
   "execution_count": null,
   "id": "bb88c8e9",
   "metadata": {},
   "outputs": [],
   "source": []
  },
  {
   "cell_type": "markdown",
   "id": "8747165a",
   "metadata": {},
   "source": [
    "### Task1: Data Import\n",
    "\n",
    "1. Import the data from the \"operational_costs_data.csv\" file.\n",
    "2. display the number of rows and columns. \n",
    "3. Display the first few rows of the dataset to get an overview.\n"
   ]
  },
  {
   "cell_type": "code",
   "execution_count": 2,
   "id": "42830f98",
   "metadata": {},
   "outputs": [
    {
     "data": {
      "text/html": [
       "<div>\n",
       "<style scoped>\n",
       "    .dataframe tbody tr th:only-of-type {\n",
       "        vertical-align: middle;\n",
       "    }\n",
       "\n",
       "    .dataframe tbody tr th {\n",
       "        vertical-align: top;\n",
       "    }\n",
       "\n",
       "    .dataframe thead th {\n",
       "        text-align: right;\n",
       "    }\n",
       "</style>\n",
       "<table border=\"1\" class=\"dataframe\">\n",
       "  <thead>\n",
       "    <tr style=\"text-align: right;\">\n",
       "      <th></th>\n",
       "      <th>department_id</th>\n",
       "      <th>cost_reduction_pct</th>\n",
       "    </tr>\n",
       "  </thead>\n",
       "  <tbody>\n",
       "    <tr>\n",
       "      <th>0</th>\n",
       "      <td>D001</td>\n",
       "      <td>7.40</td>\n",
       "    </tr>\n",
       "    <tr>\n",
       "      <th>1</th>\n",
       "      <td>D002</td>\n",
       "      <td>11.31</td>\n",
       "    </tr>\n",
       "    <tr>\n",
       "      <th>2</th>\n",
       "      <td>D003</td>\n",
       "      <td>10.78</td>\n",
       "    </tr>\n",
       "    <tr>\n",
       "      <th>3</th>\n",
       "      <td>D004</td>\n",
       "      <td>8.79</td>\n",
       "    </tr>\n",
       "    <tr>\n",
       "      <th>4</th>\n",
       "      <td>D005</td>\n",
       "      <td>3.29</td>\n",
       "    </tr>\n",
       "  </tbody>\n",
       "</table>\n",
       "</div>"
      ],
      "text/plain": [
       "  department_id  cost_reduction_pct\n",
       "0          D001                7.40\n",
       "1          D002               11.31\n",
       "2          D003               10.78\n",
       "3          D004                8.79\n",
       "4          D005                3.29"
      ]
     },
     "execution_count": 2,
     "metadata": {},
     "output_type": "execute_result"
    }
   ],
   "source": [
    "import pandas as pd\n",
    "\n",
    "df = pd.read_csv('operational_costs_data.csv')\n",
    "df.head()"
   ]
  },
  {
   "cell_type": "code",
   "execution_count": 3,
   "id": "2533294b-f63f-4aea-9558-3419fd5b99f8",
   "metadata": {},
   "outputs": [
    {
     "data": {
      "text/plain": [
       "(100, 2)"
      ]
     },
     "execution_count": 3,
     "metadata": {},
     "output_type": "execute_result"
    }
   ],
   "source": [
    "df.shape"
   ]
  },
  {
   "cell_type": "markdown",
   "id": "ac112b69",
   "metadata": {},
   "source": [
    "### Task2: Define Hypotheses\n",
    "\n",
    "- State the null and alternative hypotheses based on the given scenario."
   ]
  },
  {
   "cell_type": "markdown",
   "id": "20f7280d-bf62-4752-86d0-618b5bd58da4",
   "metadata": {},
   "source": [
    "Null_hypothesis (Ho) = The reduction in average monthly operational costs is less than or equal to 8%.\n",
    "\n",
    "Alternative Hypothesis (Ha): The reduction in average monthly operational costs is greater than 8%."
   ]
  },
  {
   "cell_type": "markdown",
   "id": "80cc154a",
   "metadata": {},
   "source": [
    "### Task3: Calculate Test Statistics\n",
    "\n",
    "- Compute the sample mean of cost_reduction_pct.\n",
    "- Determine the sample size.\n",
    "- Calculate the standard error using the provided population standard deviation.\n",
    "- Compute the Z-score for the test statistic"
   ]
  },
  {
   "cell_type": "code",
   "execution_count": 4,
   "id": "03b8c565",
   "metadata": {},
   "outputs": [
    {
     "data": {
      "text/plain": [
       "7.2562"
      ]
     },
     "execution_count": 4,
     "metadata": {},
     "output_type": "execute_result"
    }
   ],
   "source": [
    "#1. sample mean of cost_reduction_pct\n",
    "\n",
    "sample_mean = df.cost_reduction_pct.mean()\n",
    "sample_mean"
   ]
  },
  {
   "cell_type": "code",
   "execution_count": 6,
   "id": "24a63c87",
   "metadata": {},
   "outputs": [
    {
     "data": {
      "text/plain": [
       "100"
      ]
     },
     "execution_count": 6,
     "metadata": {},
     "output_type": "execute_result"
    }
   ],
   "source": [
    "#2. sample size\n",
    "\n",
    "sample_population_size = df.shape[0]\n",
    "sample_population_size"
   ]
  },
  {
   "cell_type": "code",
   "execution_count": 10,
   "id": "e40902cc",
   "metadata": {},
   "outputs": [
    {
     "data": {
      "text/plain": [
       "0.3"
      ]
     },
     "execution_count": 10,
     "metadata": {},
     "output_type": "execute_result"
    }
   ],
   "source": [
    "#3. standard error [std(population)/sqrt(sample_population_size)]\n",
    "\n",
    "import numpy as np\n",
    "\n",
    "standard_error = population_std_dev / np.sqrt(sample_population_size)\n",
    "standard_error"
   ]
  },
  {
   "cell_type": "code",
   "execution_count": 12,
   "id": "51e1b7fe",
   "metadata": {},
   "outputs": [
    {
     "data": {
      "text/plain": [
       "0.8539999999999992"
      ]
     },
     "execution_count": 12,
     "metadata": {},
     "output_type": "execute_result"
    }
   ],
   "source": [
    "#4. z_score = (X - U) / standard_error\n",
    "\n",
    "z_score = (sample_mean - population_mean)/standard_error\n",
    "z_score"
   ]
  },
  {
   "cell_type": "markdown",
   "id": "ac0c91e0",
   "metadata": {},
   "source": [
    "### Task4: Determine Z-critical Value\n",
    "\n",
    "- Set the significance level (e.g., alpha = 0.05).\n",
    "- Find the critical Z-value corresponding to this alpha level."
   ]
  },
  {
   "cell_type": "code",
   "execution_count": 14,
   "id": "0f2ef006",
   "metadata": {},
   "outputs": [],
   "source": [
    "#defining significance level\n",
    "\n",
    "alpha = 0.05\n",
    "\n",
    "from scipy import stats\n",
    "\n",
    "z_critical = stats.norm.ppf(1 - alpha)"
   ]
  },
  {
   "cell_type": "code",
   "execution_count": 15,
   "id": "dcf84e06",
   "metadata": {},
   "outputs": [
    {
     "data": {
      "text/plain": [
       "1.644853626951472"
      ]
     },
     "execution_count": 15,
     "metadata": {},
     "output_type": "execute_result"
    }
   ],
   "source": [
    "#critical value\n",
    "z_critical"
   ]
  },
  {
   "cell_type": "markdown",
   "id": "de17c6b6",
   "metadata": {},
   "source": [
    "### Task5: Decision Making\n",
    "\n",
    "- Compare the calculated Z-score with the critical Z-value.\n",
    "- Decide whether to reject or fail to reject the null hypothesis.\n",
    "- Write a conclusion summarizing the findings."
   ]
  },
  {
   "cell_type": "code",
   "execution_count": 16,
   "id": "599be96a",
   "metadata": {},
   "outputs": [
    {
     "data": {
      "text/plain": [
       "(1.644853626951472, 0.8539999999999992)"
      ]
     },
     "execution_count": 16,
     "metadata": {},
     "output_type": "execute_result"
    }
   ],
   "source": [
    "z_critical, z_score"
   ]
  },
  {
   "cell_type": "markdown",
   "id": "44d96ba6",
   "metadata": {},
   "source": [
    "## Summary\n",
    "\n"
   ]
  },
  {
   "cell_type": "markdown",
   "id": "9203adab-ee0d-49ab-9a9f-c95566e7bb04",
   "metadata": {},
   "source": [
    "**Hypothesis:**\n",
    "- Null Hypothesis (H0): Average monthly operational cost reduction ≤ 8%.\n",
    "- Alternative Hypothesis (Ha): Average monthly operational cost reduction > 8%.\n",
    "\n",
    "\n",
    "**Findings:**\n",
    "- Calculated Z-Score: 0.85\n",
    "- Critical Z-Value: 1.645\n",
    "\n",
    "\n",
    "**Conclusion:** \n",
    "-  z_score < z_critical\n",
    "- Since the Z-Score (0.85) is less than the Critical Z-Value (1.645), we do not have sufficient evidence to reject the Null Hypothesis. \n",
    "- This suggests that the cost-saving measures did not significantly reduce operational costs beyond the 8% target."
   ]
  },
  {
   "cell_type": "code",
   "execution_count": null,
   "id": "62f66d3c-cada-46ab-b656-b04a275d2356",
   "metadata": {},
   "outputs": [],
   "source": []
  }
 ],
 "metadata": {
  "kernelspec": {
   "display_name": "Python 3 (ipykernel)",
   "language": "python",
   "name": "python3"
  },
  "language_info": {
   "codemirror_mode": {
    "name": "ipython",
    "version": 3
   },
   "file_extension": ".py",
   "mimetype": "text/x-python",
   "name": "python",
   "nbconvert_exporter": "python",
   "pygments_lexer": "ipython3",
   "version": "3.12.2"
  }
 },
 "nbformat": 4,
 "nbformat_minor": 5
}
