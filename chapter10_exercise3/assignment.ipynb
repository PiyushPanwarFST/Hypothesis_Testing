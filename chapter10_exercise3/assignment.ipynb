{
 "cells": [
  {
   "cell_type": "markdown",
   "id": "d4c0260f",
   "metadata": {},
   "source": [
    "## Problem Statement\n",
    "\n",
    "An e-commerce company is evaluating two different website designs to see which one results in higher customer engagement. Design A is the current design, while Design B incorporates new features aimed at improving user experience. The company hypothesizes that Design B will lead to a higher average time spent on the website by users.\n",
    "\n",
    "**Datasets:**\n",
    "- current_design.csv: Contains data for user interactions with the current website design (Design A), with columns user_id and time_spent_minutes.\n",
    "- new_design.csv: Contains data for user interactions with the new website design (Design B), with columns user_id and time_spent_minutes.\n",
    "\n",
    "**Objective:**\n",
    "- To determine whether Design B results in a higher average time spent on the website compared to Design A."
   ]
  },
  {
   "cell_type": "markdown",
   "id": "eece3316-6f77-44a1-9523-ae3dc5f1e124",
   "metadata": {},
   "source": [
    "### null hypothesis: The Average time will be same for both the websites current and new.\n",
    "### alternate hypothesis: Design B will lead to a higher average time spent on the website by users."
   ]
  },
  {
   "cell_type": "markdown",
   "id": "b946b9ad",
   "metadata": {},
   "source": [
    "**Steps to perform:**\n",
    "- Set the null and alternate hypothesis for this analysis.\n",
    "- Load the datasets current_design.csv and new_design.csv.\n",
    "- Calculate the mean and standard deviation of the time spent for both designs.\n",
    "- Determine the sizes of both groups.\n",
    "- Calculate the z-score to compare the means of both groups.\n",
    "- Set the significance level (alpha) at 5% for a right-tailed test.\n",
    "- Calculate the critical z-value for the right-tailed test at the 5% significance level.\n",
    "- Compare the calculated z-score with the critical z-value to decide whether to reject the null hypothesis.\n",
    "- Write down your observations in the end."
   ]
  },
  {
   "cell_type": "markdown",
   "id": "ae3dfabc",
   "metadata": {},
   "source": [
    "**Import Necessary Libraries**"
   ]
  },
  {
   "cell_type": "markdown",
   "id": "52b2dcf1-1fef-46c2-8577-cc8d09862a67",
   "metadata": {},
   "source": [
    "### Current Website"
   ]
  },
  {
   "cell_type": "code",
   "execution_count": 1,
   "id": "55ce8a7f",
   "metadata": {},
   "outputs": [
    {
     "data": {
      "text/html": [
       "<div>\n",
       "<style scoped>\n",
       "    .dataframe tbody tr th:only-of-type {\n",
       "        vertical-align: middle;\n",
       "    }\n",
       "\n",
       "    .dataframe tbody tr th {\n",
       "        vertical-align: top;\n",
       "    }\n",
       "\n",
       "    .dataframe thead th {\n",
       "        text-align: right;\n",
       "    }\n",
       "</style>\n",
       "<table border=\"1\" class=\"dataframe\">\n",
       "  <thead>\n",
       "    <tr style=\"text-align: right;\">\n",
       "      <th></th>\n",
       "      <th>user_id</th>\n",
       "      <th>time_spent_minutes</th>\n",
       "    </tr>\n",
       "  </thead>\n",
       "  <tbody>\n",
       "    <tr>\n",
       "      <th>0</th>\n",
       "      <td>C001</td>\n",
       "      <td>5.93</td>\n",
       "    </tr>\n",
       "    <tr>\n",
       "      <th>1</th>\n",
       "      <td>C002</td>\n",
       "      <td>5.21</td>\n",
       "    </tr>\n",
       "    <tr>\n",
       "      <th>2</th>\n",
       "      <td>C003</td>\n",
       "      <td>5.07</td>\n",
       "    </tr>\n",
       "    <tr>\n",
       "      <th>3</th>\n",
       "      <td>C004</td>\n",
       "      <td>5.06</td>\n",
       "    </tr>\n",
       "    <tr>\n",
       "      <th>4</th>\n",
       "      <td>C005</td>\n",
       "      <td>6.33</td>\n",
       "    </tr>\n",
       "  </tbody>\n",
       "</table>\n",
       "</div>"
      ],
      "text/plain": [
       "  user_id  time_spent_minutes\n",
       "0    C001                5.93\n",
       "1    C002                5.21\n",
       "2    C003                5.07\n",
       "3    C004                5.06\n",
       "4    C005                6.33"
      ]
     },
     "execution_count": 1,
     "metadata": {},
     "output_type": "execute_result"
    }
   ],
   "source": [
    "import pandas as pd\n",
    "\n",
    "df_current = pd.read_csv(\"current_design.csv\")\n",
    "df_current.head()"
   ]
  },
  {
   "cell_type": "code",
   "execution_count": 8,
   "id": "8e286fc4-9ad3-4f09-8f27-e9bf0ccbd322",
   "metadata": {},
   "outputs": [
    {
     "data": {
      "text/plain": [
       "100"
      ]
     },
     "execution_count": 8,
     "metadata": {},
     "output_type": "execute_result"
    }
   ],
   "source": [
    "current_SIZE = df_current.shape[0]\n",
    "current_SIZE"
   ]
  },
  {
   "cell_type": "code",
   "execution_count": 3,
   "id": "6c234eea-1284-491a-bdda-09865584c63f",
   "metadata": {},
   "outputs": [
    {
     "data": {
      "text/plain": [
       "(6.015199999999998, 0.6182550877553322)"
      ]
     },
     "execution_count": 3,
     "metadata": {},
     "output_type": "execute_result"
    }
   ],
   "source": [
    "df_current_mean = df_current.time_spent_minutes.mean()\n",
    "df_current_std = df_current.time_spent_minutes.std()\n",
    "\n",
    "df_current_mean, df_current_std"
   ]
  },
  {
   "cell_type": "markdown",
   "id": "3e71556b-1ff7-4d94-906f-e2ba68f27bdf",
   "metadata": {},
   "source": [
    "### New Website"
   ]
  },
  {
   "cell_type": "code",
   "execution_count": 4,
   "id": "fc1acc33-32c3-4718-bb00-2e5478881768",
   "metadata": {},
   "outputs": [
    {
     "data": {
      "text/html": [
       "<div>\n",
       "<style scoped>\n",
       "    .dataframe tbody tr th:only-of-type {\n",
       "        vertical-align: middle;\n",
       "    }\n",
       "\n",
       "    .dataframe tbody tr th {\n",
       "        vertical-align: top;\n",
       "    }\n",
       "\n",
       "    .dataframe thead th {\n",
       "        text-align: right;\n",
       "    }\n",
       "</style>\n",
       "<table border=\"1\" class=\"dataframe\">\n",
       "  <thead>\n",
       "    <tr style=\"text-align: right;\">\n",
       "      <th></th>\n",
       "      <th>user_id</th>\n",
       "      <th>time_spent_minutes</th>\n",
       "    </tr>\n",
       "  </thead>\n",
       "  <tbody>\n",
       "    <tr>\n",
       "      <th>0</th>\n",
       "      <td>T001</td>\n",
       "      <td>7.49</td>\n",
       "    </tr>\n",
       "    <tr>\n",
       "      <th>1</th>\n",
       "      <td>T002</td>\n",
       "      <td>7.37</td>\n",
       "    </tr>\n",
       "    <tr>\n",
       "      <th>2</th>\n",
       "      <td>T003</td>\n",
       "      <td>7.32</td>\n",
       "    </tr>\n",
       "    <tr>\n",
       "      <th>3</th>\n",
       "      <td>T004</td>\n",
       "      <td>6.85</td>\n",
       "    </tr>\n",
       "    <tr>\n",
       "      <th>4</th>\n",
       "      <td>T005</td>\n",
       "      <td>7.10</td>\n",
       "    </tr>\n",
       "  </tbody>\n",
       "</table>\n",
       "</div>"
      ],
      "text/plain": [
       "  user_id  time_spent_minutes\n",
       "0    T001                7.49\n",
       "1    T002                7.37\n",
       "2    T003                7.32\n",
       "3    T004                6.85\n",
       "4    T005                7.10"
      ]
     },
     "execution_count": 4,
     "metadata": {},
     "output_type": "execute_result"
    }
   ],
   "source": [
    "df_new = pd.read_csv(\"new_design.csv\")\n",
    "df_new.head()"
   ]
  },
  {
   "cell_type": "code",
   "execution_count": 5,
   "id": "dd142890-a10a-4544-b930-5572ddba04f8",
   "metadata": {},
   "outputs": [
    {
     "data": {
      "text/plain": [
       "100"
      ]
     },
     "execution_count": 5,
     "metadata": {},
     "output_type": "execute_result"
    }
   ],
   "source": [
    "new_SIZE = df_new.shape[0]\n",
    "new_SIZE"
   ]
  },
  {
   "cell_type": "code",
   "execution_count": 6,
   "id": "7aced50d-e940-4c1a-b895-940436ac5793",
   "metadata": {},
   "outputs": [
    {
     "data": {
      "text/plain": [
       "(8.062599999999998, 0.9025257711981236)"
      ]
     },
     "execution_count": 6,
     "metadata": {},
     "output_type": "execute_result"
    }
   ],
   "source": [
    "df_new_mean = df_new.time_spent_minutes.mean()\n",
    "df_new_std = df_new.time_spent_minutes.std()\n",
    "\n",
    "df_new_mean, df_new_std"
   ]
  },
  {
   "cell_type": "markdown",
   "id": "659d9a03",
   "metadata": {},
   "source": [
    "**Define hypothesis**\n",
    "\n"
   ]
  },
  {
   "cell_type": "code",
   "execution_count": null,
   "id": "778e614a",
   "metadata": {},
   "outputs": [],
   "source": []
  },
  {
   "cell_type": "markdown",
   "id": "701b1225",
   "metadata": {},
   "source": [
    "**1: Load the datasets**"
   ]
  },
  {
   "cell_type": "code",
   "execution_count": null,
   "id": "091fccee",
   "metadata": {},
   "outputs": [],
   "source": []
  },
  {
   "cell_type": "markdown",
   "id": "66ef2266",
   "metadata": {},
   "source": [
    "**2: Calculate the mean and standard deviation of the time spent for both designs.**"
   ]
  },
  {
   "cell_type": "code",
   "execution_count": 9,
   "id": "c074aa36",
   "metadata": {},
   "outputs": [
    {
     "data": {
      "text/plain": [
       "0.0038223935353535353"
      ]
     },
     "execution_count": 9,
     "metadata": {},
     "output_type": "execute_result"
    }
   ],
   "source": [
    "#control statistics\n",
    "\n",
    "control_variance = df_current_std**2 / current_SIZE\n",
    "control_variance"
   ]
  },
  {
   "cell_type": "code",
   "execution_count": 12,
   "id": "bbadf26f",
   "metadata": {},
   "outputs": [
    {
     "data": {
      "text/plain": [
       "0.008145527676767678"
      ]
     },
     "execution_count": 12,
     "metadata": {},
     "output_type": "execute_result"
    }
   ],
   "source": [
    "#test statistics\n",
    "\n",
    "test_variance = df_new_std**2 / new_SIZE\n",
    "test_variance"
   ]
  },
  {
   "cell_type": "code",
   "execution_count": null,
   "id": "3cd45b9a-f8ff-4e3f-9613-2245bc7e2d10",
   "metadata": {},
   "outputs": [],
   "source": [
    "# finding z_score for collective distribution"
   ]
  },
  {
   "cell_type": "code",
   "execution_count": 18,
   "id": "f348be0c-bf90-4bd4-b4d6-64eb5327f958",
   "metadata": {},
   "outputs": [
    {
     "data": {
      "text/plain": [
       "(2.0473999999999997, 0.011967921212121212)"
      ]
     },
     "execution_count": 18,
     "metadata": {},
     "output_type": "execute_result"
    }
   ],
   "source": [
    "collective_variance = control_variance + test_variance\n",
    "collective_mean = df_new_mean - df_current_mean \n",
    "\n",
    "collective_mean, collective_variance"
   ]
  },
  {
   "cell_type": "code",
   "execution_count": 15,
   "id": "dddd97b3-85b1-419b-9c88-fdb639c0ddf6",
   "metadata": {},
   "outputs": [],
   "source": [
    "# calcualting collective z-score"
   ]
  },
  {
   "cell_type": "code",
   "execution_count": 20,
   "id": "64947068-2231-4fcd-8114-f082da4bd228",
   "metadata": {},
   "outputs": [
    {
     "data": {
      "text/plain": [
       "18.715151117476786"
      ]
     },
     "execution_count": 20,
     "metadata": {},
     "output_type": "execute_result"
    }
   ],
   "source": [
    "import numpy as np\n",
    "\n",
    "population_mean = 0\n",
    "\n",
    "z_score = (collective_mean - population_mean) / np.sqrt(collective_variance)\n",
    "z_score"
   ]
  },
  {
   "cell_type": "code",
   "execution_count": null,
   "id": "7d0d460a-ee5c-4a26-9c13-adafba233cf9",
   "metadata": {},
   "outputs": [],
   "source": [
    "# finding z_critical and campare with z_score"
   ]
  },
  {
   "cell_type": "code",
   "execution_count": 21,
   "id": "9b3cef7e-5c57-4516-b3e7-511a4f497e49",
   "metadata": {},
   "outputs": [
    {
     "data": {
      "text/plain": [
       "1.644853626951472"
      ]
     },
     "execution_count": 21,
     "metadata": {},
     "output_type": "execute_result"
    }
   ],
   "source": [
    "from scipy import stats as st\n",
    "\n",
    "# For a significance level of 5% (0.05) in a right-tailed test, the critical Z-value is approximately 1.645\n",
    "\n",
    "alpha = 0.05 # significance level of 5%\n",
    "\n",
    "z_crit = st.norm.ppf(1 - alpha)\n",
    "z_crit"
   ]
  },
  {
   "cell_type": "code",
   "execution_count": null,
   "id": "3e3aeb3e-f056-48ce-8f8b-903da09f47d6",
   "metadata": {},
   "outputs": [],
   "source": []
  },
  {
   "cell_type": "markdown",
   "id": "534af8ed",
   "metadata": {},
   "source": [
    "**3: Test using rejection region (i.e. critical z value)**"
   ]
  },
  {
   "cell_type": "code",
   "execution_count": 22,
   "id": "ea9c7905",
   "metadata": {},
   "outputs": [
    {
     "data": {
      "text/plain": [
       "True"
      ]
     },
     "execution_count": 22,
     "metadata": {},
     "output_type": "execute_result"
    }
   ],
   "source": [
    "z_score > z_crit"
   ]
  },
  {
   "cell_type": "markdown",
   "id": "9b2d4612",
   "metadata": {},
   "source": [
    "### Observations and Conclusion\n",
    "\n"
   ]
  }
 ],
 "metadata": {
  "kernelspec": {
   "display_name": "Python 3 (ipykernel)",
   "language": "python",
   "name": "python3"
  },
  "language_info": {
   "codemirror_mode": {
    "name": "ipython",
    "version": 3
   },
   "file_extension": ".py",
   "mimetype": "text/x-python",
   "name": "python",
   "nbconvert_exporter": "python",
   "pygments_lexer": "ipython3",
   "version": "3.12.2"
  }
 },
 "nbformat": 4,
 "nbformat_minor": 5
}
