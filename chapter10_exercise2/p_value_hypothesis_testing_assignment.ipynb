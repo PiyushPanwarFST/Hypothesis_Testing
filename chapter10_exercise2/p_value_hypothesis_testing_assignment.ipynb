{
 "cells": [
  {
   "cell_type": "markdown",
   "id": "cc95e533",
   "metadata": {},
   "source": [
    "## Problem Statement\n",
    "\n",
    "A company has recently implemented a new marketing campaign for one of its products. The company wants to assess if this campaign has significantly increased the product's average monthly sales by more than 15%.\n",
    "To evaluate the impact of this campaign, the company has compiled a sample dataset named **\"monthly_sales_data.csv\"**. It contains the following columns:\n",
    "\n",
    "- **product_id:** A unique identifier for each product.\n",
    "- **sales_increase_pct:** The percentage increase in monthly sales for each product as a result of the new marketing campaign.\n",
    "\n",
    "\n",
    "The primary goal of the analysis is to determine whether this campaign increased the product's average monthly sales by more than 15%.\n"
   ]
  },
  {
   "cell_type": "code",
   "execution_count": 6,
   "id": "61a244f1",
   "metadata": {},
   "outputs": [],
   "source": [
    "#given population parameters\n",
    "\n",
    "population_mean = 12  #(This implies that before the new campaign, the average increase in sales was around 12%)\n",
    "population_std_dev = 5  #(variability)"
   ]
  },
  {
   "cell_type": "code",
   "execution_count": null,
   "id": "f40f9bb8",
   "metadata": {},
   "outputs": [],
   "source": []
  },
  {
   "cell_type": "markdown",
   "id": "fa078eaf",
   "metadata": {},
   "source": [
    "**Import Necessary Libraries**"
   ]
  },
  {
   "cell_type": "code",
   "execution_count": null,
   "id": "a54057a8",
   "metadata": {},
   "outputs": [],
   "source": []
  },
  {
   "cell_type": "code",
   "execution_count": null,
   "id": "b05e2db0",
   "metadata": {},
   "outputs": [],
   "source": []
  },
  {
   "cell_type": "markdown",
   "id": "0386ef8f",
   "metadata": {},
   "source": [
    "### Task1: Data Import\n",
    "\n",
    "1. Import the data from the \"monthly_sales_data.csv\" file.\n",
    "2. display the number of rows and columns. \n",
    "3. Display the first few rows of the dataset to get an overview.\n"
   ]
  },
  {
   "cell_type": "code",
   "execution_count": 1,
   "id": "cb9e0ad1",
   "metadata": {},
   "outputs": [
    {
     "data": {
      "text/html": [
       "<div>\n",
       "<style scoped>\n",
       "    .dataframe tbody tr th:only-of-type {\n",
       "        vertical-align: middle;\n",
       "    }\n",
       "\n",
       "    .dataframe tbody tr th {\n",
       "        vertical-align: top;\n",
       "    }\n",
       "\n",
       "    .dataframe thead th {\n",
       "        text-align: right;\n",
       "    }\n",
       "</style>\n",
       "<table border=\"1\" class=\"dataframe\">\n",
       "  <thead>\n",
       "    <tr style=\"text-align: right;\">\n",
       "      <th></th>\n",
       "      <th>product_id</th>\n",
       "      <th>sales_increase_pct</th>\n",
       "    </tr>\n",
       "  </thead>\n",
       "  <tbody>\n",
       "    <tr>\n",
       "      <th>0</th>\n",
       "      <td>P0001</td>\n",
       "      <td>19.23</td>\n",
       "    </tr>\n",
       "    <tr>\n",
       "      <th>1</th>\n",
       "      <td>P0002</td>\n",
       "      <td>25.47</td>\n",
       "    </tr>\n",
       "    <tr>\n",
       "      <th>2</th>\n",
       "      <td>P0003</td>\n",
       "      <td>19.16</td>\n",
       "    </tr>\n",
       "    <tr>\n",
       "      <th>3</th>\n",
       "      <td>P0004</td>\n",
       "      <td>17.77</td>\n",
       "    </tr>\n",
       "    <tr>\n",
       "      <th>4</th>\n",
       "      <td>P0005</td>\n",
       "      <td>11.35</td>\n",
       "    </tr>\n",
       "  </tbody>\n",
       "</table>\n",
       "</div>"
      ],
      "text/plain": [
       "  product_id  sales_increase_pct\n",
       "0      P0001               19.23\n",
       "1      P0002               25.47\n",
       "2      P0003               19.16\n",
       "3      P0004               17.77\n",
       "4      P0005               11.35"
      ]
     },
     "execution_count": 1,
     "metadata": {},
     "output_type": "execute_result"
    }
   ],
   "source": [
    "import pandas as pd\n",
    "\n",
    "df = pd.read_csv(\"monthly_sales_data.csv\")\n",
    "df.head()"
   ]
  },
  {
   "cell_type": "markdown",
   "id": "d5d44102",
   "metadata": {},
   "source": [
    "### Task2: Define Hypotheses\n",
    "\n",
    "- State the null and alternative hypotheses based on the given scenario."
   ]
  },
  {
   "cell_type": "markdown",
   "id": "1281b21a-3e39-46c6-b95b-2b13eae10752",
   "metadata": {},
   "source": [
    "null hypotheses = the sales will be less than or equal to 15%.\n",
    "alternative hypotheses = the sales will go more than 15%."
   ]
  },
  {
   "cell_type": "markdown",
   "id": "7bca31a1",
   "metadata": {},
   "source": [
    "### Task3: Calculate Test Statistics\n",
    "\n",
    "- Compute the sample mean of cost_reduction_pct.\n",
    "- Determine the sample size.\n",
    "- Calculate the standard error using the provided population standard deviation.\n",
    "- Compute the Z-score for the test statistic"
   ]
  },
  {
   "cell_type": "code",
   "execution_count": 4,
   "id": "9e1ecec6",
   "metadata": {},
   "outputs": [
    {
     "data": {
      "text/plain": [
       "15.4845"
      ]
     },
     "execution_count": 4,
     "metadata": {},
     "output_type": "execute_result"
    }
   ],
   "source": [
    "#1. sample mean of cost_reduction_pct\n",
    "\n",
    "sample_mean = df.sales_increase_pct.mean()\n",
    "sample_mean"
   ]
  },
  {
   "cell_type": "code",
   "execution_count": 5,
   "id": "10423a86",
   "metadata": {},
   "outputs": [
    {
     "data": {
      "text/plain": [
       "100"
      ]
     },
     "execution_count": 5,
     "metadata": {},
     "output_type": "execute_result"
    }
   ],
   "source": [
    "#2. sample size\n",
    "df.shape[0]"
   ]
  },
  {
   "cell_type": "code",
   "execution_count": 7,
   "id": "b0b85b12",
   "metadata": {},
   "outputs": [
    {
     "data": {
      "text/plain": [
       "0.5"
      ]
     },
     "execution_count": 7,
     "metadata": {},
     "output_type": "execute_result"
    }
   ],
   "source": [
    "#3. standard error\n",
    "import numpy as np\n",
    "\n",
    "standard_error = population_std_dev / np.sqrt(df.shape[0])\n",
    "standard_error"
   ]
  },
  {
   "cell_type": "code",
   "execution_count": 8,
   "id": "5514ffe1",
   "metadata": {},
   "outputs": [
    {
     "data": {
      "text/plain": [
       "6.969000000000001"
      ]
     },
     "execution_count": 8,
     "metadata": {},
     "output_type": "execute_result"
    }
   ],
   "source": [
    "#4. z_score\n",
    "\n",
    "z_score = (sample_mean - population_mean)/standard_error\n",
    "z_score"
   ]
  },
  {
   "cell_type": "markdown",
   "id": "2dc258c4",
   "metadata": {},
   "source": [
    "### Task4: Calculate the P-Value\n",
    "\n",
    "- Set the significance level (e.g., alpha = 0.05).\n",
    "- Calculate the p-value associated with the obtained z-score."
   ]
  },
  {
   "cell_type": "code",
   "execution_count": 12,
   "id": "1bb71c91",
   "metadata": {},
   "outputs": [
    {
     "data": {
      "text/plain": [
       "0.9999999999984039"
      ]
     },
     "execution_count": 12,
     "metadata": {},
     "output_type": "execute_result"
    }
   ],
   "source": [
    "#defining significance level\n",
    "\n",
    "alpha = 0.05\n",
    "\n",
    "from scipy import stats\n",
    "\n",
    "percentage = stats.norm.cdf(z_score)\n",
    "percentage "
   ]
  },
  {
   "cell_type": "code",
   "execution_count": 11,
   "id": "2f3f77f1",
   "metadata": {},
   "outputs": [
    {
     "data": {
      "text/plain": [
       "1.596056620201125e-12"
      ]
     },
     "execution_count": 11,
     "metadata": {},
     "output_type": "execute_result"
    }
   ],
   "source": [
    "#p-value\n",
    "\n",
    "p_value = 1 - percentage\n",
    "p_value"
   ]
  },
  {
   "cell_type": "markdown",
   "id": "f6be7304",
   "metadata": {},
   "source": [
    "### Task5: Decision Making\n",
    "\n",
    "- Compare the calculated p-value with the alpha.\n",
    "- Decide whether to reject or fail to reject the null hypothesis.\n",
    "- Write a conclusion summarizing the findings."
   ]
  },
  {
   "cell_type": "code",
   "execution_count": 14,
   "id": "6c5b4e05",
   "metadata": {},
   "outputs": [
    {
     "data": {
      "text/plain": [
       "(1.596056620201125e-12, 0.05)"
      ]
     },
     "execution_count": 14,
     "metadata": {},
     "output_type": "execute_result"
    }
   ],
   "source": [
    "p_value, alpha \n",
    "\n",
    "# 1.5847e-12 means 1.5847 × 10^(-12).\n",
    "# This is equivalent to 0.0000000000015847 (notice the decimal has moved 12 places to the left)."
   ]
  },
  {
   "cell_type": "markdown",
   "id": "3a2ab936",
   "metadata": {},
   "source": [
    "## Summary\n"
   ]
  }
 ],
 "metadata": {
  "kernelspec": {
   "display_name": "Python 3 (ipykernel)",
   "language": "python",
   "name": "python3"
  },
  "language_info": {
   "codemirror_mode": {
    "name": "ipython",
    "version": 3
   },
   "file_extension": ".py",
   "mimetype": "text/x-python",
   "name": "python",
   "nbconvert_exporter": "python",
   "pygments_lexer": "ipython3",
   "version": "3.12.2"
  }
 },
 "nbformat": 4,
 "nbformat_minor": 5
}
