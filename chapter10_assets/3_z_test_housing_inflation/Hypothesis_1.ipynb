{
 "cells": [
  {
   "cell_type": "code",
   "execution_count": 2,
   "id": "339976ad-bc16-46fc-afd3-0b4e9b567e94",
   "metadata": {},
   "outputs": [
    {
     "data": {
      "text/html": [
       "<div>\n",
       "<style scoped>\n",
       "    .dataframe tbody tr th:only-of-type {\n",
       "        vertical-align: middle;\n",
       "    }\n",
       "\n",
       "    .dataframe tbody tr th {\n",
       "        vertical-align: top;\n",
       "    }\n",
       "\n",
       "    .dataframe thead th {\n",
       "        text-align: right;\n",
       "    }\n",
       "</style>\n",
       "<table border=\"1\" class=\"dataframe\">\n",
       "  <thead>\n",
       "    <tr style=\"text-align: right;\">\n",
       "      <th></th>\n",
       "      <th>house_id</th>\n",
       "      <th>price_increase_pct</th>\n",
       "    </tr>\n",
       "  </thead>\n",
       "  <tbody>\n",
       "    <tr>\n",
       "      <th>0</th>\n",
       "      <td>NJ001</td>\n",
       "      <td>12.7</td>\n",
       "    </tr>\n",
       "    <tr>\n",
       "      <th>1</th>\n",
       "      <td>NJ002</td>\n",
       "      <td>11.3</td>\n",
       "    </tr>\n",
       "    <tr>\n",
       "      <th>2</th>\n",
       "      <td>NJ003</td>\n",
       "      <td>11.9</td>\n",
       "    </tr>\n",
       "    <tr>\n",
       "      <th>3</th>\n",
       "      <td>NJ004</td>\n",
       "      <td>13.2</td>\n",
       "    </tr>\n",
       "    <tr>\n",
       "      <th>4</th>\n",
       "      <td>NJ005</td>\n",
       "      <td>12.8</td>\n",
       "    </tr>\n",
       "  </tbody>\n",
       "</table>\n",
       "</div>"
      ],
      "text/plain": [
       "  house_id  price_increase_pct\n",
       "0    NJ001                12.7\n",
       "1    NJ002                11.3\n",
       "2    NJ003                11.9\n",
       "3    NJ004                13.2\n",
       "4    NJ005                12.8"
      ]
     },
     "execution_count": 2,
     "metadata": {},
     "output_type": "execute_result"
    }
   ],
   "source": [
    "import pandas as pd\n",
    "\n",
    "df_sample = pd.read_csv('house_price_increase.csv') \n",
    "df_sample.head()"
   ]
  },
  {
   "cell_type": "code",
   "execution_count": 8,
   "id": "a4823201-28c8-41d8-8cf4-e08d2b3e6cbc",
   "metadata": {},
   "outputs": [
    {
     "data": {
      "text/plain": [
       "(100, 2)"
      ]
     },
     "execution_count": 8,
     "metadata": {},
     "output_type": "execute_result"
    }
   ],
   "source": [
    "n = df_sample.shape[0]\n",
    "df_sample.shape"
   ]
  },
  {
   "cell_type": "code",
   "execution_count": 4,
   "id": "0cae183e-be3b-44c0-a25d-cac7e085f084",
   "metadata": {},
   "outputs": [],
   "source": [
    "# HARD-CODED POPULATION [MEAN, STD]:\n",
    "\n",
    "population_mean = 10\n",
    "population_std_dev = 4"
   ]
  },
  {
   "cell_type": "code",
   "execution_count": 5,
   "id": "5a7dce73-aab6-4f18-a704-37be99040b06",
   "metadata": {},
   "outputs": [
    {
     "data": {
      "text/plain": [
       "11.0"
      ]
     },
     "execution_count": 5,
     "metadata": {},
     "output_type": "execute_result"
    }
   ],
   "source": [
    "sample_mean = df_sample.price_increase_pct.mean()\n",
    "sample_mean"
   ]
  },
  {
   "cell_type": "code",
   "execution_count": null,
   "id": "ebc09171-7dc8-4996-8668-85ddd9bf8cf9",
   "metadata": {},
   "outputs": [],
   "source": []
  },
  {
   "cell_type": "markdown",
   "id": "1c6fd609-f047-412d-a960-460ffb3968aa",
   "metadata": {},
   "source": [
    "import numpy as np\n",
    "\n",
    "standard_error = population_std_dev/np.sqrt(n)\n",
    "standard_error"
   ]
  },
  {
   "cell_type": "code",
   "execution_count": 10,
   "id": "0fc63867-0bb9-457c-a8b9-906d15300266",
   "metadata": {},
   "outputs": [
    {
     "data": {
      "text/plain": [
       "2.5"
      ]
     },
     "execution_count": 10,
     "metadata": {},
     "output_type": "execute_result"
    }
   ],
   "source": [
    "z_score = (sample_mean - population_mean)/standard_error\n",
    "z_score"
   ]
  },
  {
   "cell_type": "code",
   "execution_count": 11,
   "id": "e011b9f1-739a-47a3-baf5-56bf1c7631f3",
   "metadata": {},
   "outputs": [],
   "source": [
    "# suppose significance level alpha == 0.05 means 95% [probability %]\n",
    "\n",
    "alpha = 0.05"
   ]
  },
  {
   "cell_type": "code",
   "execution_count": 13,
   "id": "5e3e447d-b52d-48cd-b91a-12a342b961f1",
   "metadata": {},
   "outputs": [
    {
     "data": {
      "text/plain": [
       "(1.644853626951472, 2.5)"
      ]
     },
     "execution_count": 13,
     "metadata": {},
     "output_type": "execute_result"
    }
   ],
   "source": [
    "from scipy import stats\n",
    "\n",
    "z_critical = stats.norm.ppf(1-alpha)\n",
    "z_critical, z_score"
   ]
  },
  {
   "cell_type": "code",
   "execution_count": null,
   "id": "8d2e2536-7082-466c-8c5c-187d7d08ac20",
   "metadata": {},
   "outputs": [],
   "source": [
    "# so as we can see our [z_score > z_critical] means s-score falls under the rejection region so we will Null hypothesis [govt 10% inflation]\n",
    "# and we will accept Alternative Hypothesis(Ha)\n"
   ]
  },
  {
   "cell_type": "markdown",
   "id": "0e1ef2b2-6c92-441a-b0fe-30da444a80fa",
   "metadata": {},
   "source": [
    "## Z Test Using p-Value"
   ]
  },
  {
   "cell_type": "code",
   "execution_count": 23,
   "id": "d0e6ee82-454e-4256-b647-c137fa19aea4",
   "metadata": {},
   "outputs": [
    {
     "data": {
      "text/plain": [
       "0.9937903346742238"
      ]
     },
     "execution_count": 23,
     "metadata": {},
     "output_type": "execute_result"
    }
   ],
   "source": [
    "from scipy import stats\n",
    "\n",
    "percentage = stats.norm.cdf(z_score)\n",
    "percentage "
   ]
  },
  {
   "cell_type": "code",
   "execution_count": 24,
   "id": "21110956-0c89-4cb0-87a0-44476488f0cf",
   "metadata": {},
   "outputs": [
    {
     "data": {
      "text/plain": [
       "0.006209665325776159"
      ]
     },
     "execution_count": 24,
     "metadata": {},
     "output_type": "execute_result"
    }
   ],
   "source": [
    "p_value = 1 - percentage\n",
    "p_value"
   ]
  },
  {
   "cell_type": "code",
   "execution_count": 19,
   "id": "0837091c-305d-4bc6-9802-c1ba91cb20d6",
   "metadata": {},
   "outputs": [
    {
     "data": {
      "text/plain": [
       "(0.006209665325776159, 0.05)"
      ]
     },
     "execution_count": 19,
     "metadata": {},
     "output_type": "execute_result"
    }
   ],
   "source": [
    "p_value, alpha"
   ]
  },
  {
   "cell_type": "code",
   "execution_count": null,
   "id": "a6903f79-f185-4318-a102-95d6b1a8137c",
   "metadata": {},
   "outputs": [],
   "source": []
  }
 ],
 "metadata": {
  "kernelspec": {
   "display_name": "Python 3 (ipykernel)",
   "language": "python",
   "name": "python3"
  },
  "language_info": {
   "codemirror_mode": {
    "name": "ipython",
    "version": 3
   },
   "file_extension": ".py",
   "mimetype": "text/x-python",
   "name": "python",
   "nbconvert_exporter": "python",
   "pygments_lexer": "ipython3",
   "version": "3.12.2"
  }
 },
 "nbformat": 4,
 "nbformat_minor": 5
}
