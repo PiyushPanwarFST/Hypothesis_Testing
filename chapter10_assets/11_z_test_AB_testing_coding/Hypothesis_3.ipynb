{
 "cells": [
  {
   "cell_type": "code",
   "execution_count": 1,
   "id": "8b1ad60c-3878-499d-b9ae-a8a335767884",
   "metadata": {},
   "outputs": [
    {
     "data": {
      "text/html": [
       "<div>\n",
       "<style scoped>\n",
       "    .dataframe tbody tr th:only-of-type {\n",
       "        vertical-align: middle;\n",
       "    }\n",
       "\n",
       "    .dataframe tbody tr th {\n",
       "        vertical-align: top;\n",
       "    }\n",
       "\n",
       "    .dataframe thead th {\n",
       "        text-align: right;\n",
       "    }\n",
       "</style>\n",
       "<table border=\"1\" class=\"dataframe\">\n",
       "  <thead>\n",
       "    <tr style=\"text-align: right;\">\n",
       "      <th></th>\n",
       "      <th>person_id</th>\n",
       "      <th>recovery_time_hrs</th>\n",
       "    </tr>\n",
       "  </thead>\n",
       "  <tbody>\n",
       "    <tr>\n",
       "      <th>0</th>\n",
       "      <td>C001</td>\n",
       "      <td>4.4</td>\n",
       "    </tr>\n",
       "    <tr>\n",
       "      <th>1</th>\n",
       "      <td>C002</td>\n",
       "      <td>4.1</td>\n",
       "    </tr>\n",
       "    <tr>\n",
       "      <th>2</th>\n",
       "      <td>C003</td>\n",
       "      <td>3.2</td>\n",
       "    </tr>\n",
       "    <tr>\n",
       "      <th>3</th>\n",
       "      <td>C004</td>\n",
       "      <td>4.3</td>\n",
       "    </tr>\n",
       "    <tr>\n",
       "      <th>4</th>\n",
       "      <td>C005</td>\n",
       "      <td>4.9</td>\n",
       "    </tr>\n",
       "  </tbody>\n",
       "</table>\n",
       "</div>"
      ],
      "text/plain": [
       "  person_id  recovery_time_hrs\n",
       "0      C001                4.4\n",
       "1      C002                4.1\n",
       "2      C003                3.2\n",
       "3      C004                4.3\n",
       "4      C005                4.9"
      ]
     },
     "execution_count": 1,
     "metadata": {},
     "output_type": "execute_result"
    }
   ],
   "source": [
    "import pandas as pd\n",
    "\n",
    "control = pd.read_csv(\"control_group.csv\")\n",
    "control.head()"
   ]
  },
  {
   "cell_type": "code",
   "execution_count": 2,
   "id": "27898e2f-2c3c-4da1-8321-819bb2ea5d41",
   "metadata": {},
   "outputs": [
    {
     "data": {
      "text/html": [
       "<div>\n",
       "<style scoped>\n",
       "    .dataframe tbody tr th:only-of-type {\n",
       "        vertical-align: middle;\n",
       "    }\n",
       "\n",
       "    .dataframe tbody tr th {\n",
       "        vertical-align: top;\n",
       "    }\n",
       "\n",
       "    .dataframe thead th {\n",
       "        text-align: right;\n",
       "    }\n",
       "</style>\n",
       "<table border=\"1\" class=\"dataframe\">\n",
       "  <thead>\n",
       "    <tr style=\"text-align: right;\">\n",
       "      <th></th>\n",
       "      <th>person_id</th>\n",
       "      <th>recovery_time_hrs</th>\n",
       "    </tr>\n",
       "  </thead>\n",
       "  <tbody>\n",
       "    <tr>\n",
       "      <th>0</th>\n",
       "      <td>T001</td>\n",
       "      <td>3.7</td>\n",
       "    </tr>\n",
       "    <tr>\n",
       "      <th>1</th>\n",
       "      <td>T002</td>\n",
       "      <td>4.1</td>\n",
       "    </tr>\n",
       "    <tr>\n",
       "      <th>2</th>\n",
       "      <td>T003</td>\n",
       "      <td>3.7</td>\n",
       "    </tr>\n",
       "    <tr>\n",
       "      <th>3</th>\n",
       "      <td>T004</td>\n",
       "      <td>3.9</td>\n",
       "    </tr>\n",
       "    <tr>\n",
       "      <th>4</th>\n",
       "      <td>T005</td>\n",
       "      <td>3.7</td>\n",
       "    </tr>\n",
       "  </tbody>\n",
       "</table>\n",
       "</div>"
      ],
      "text/plain": [
       "  person_id  recovery_time_hrs\n",
       "0      T001                3.7\n",
       "1      T002                4.1\n",
       "2      T003                3.7\n",
       "3      T004                3.9\n",
       "4      T005                3.7"
      ]
     },
     "execution_count": 2,
     "metadata": {},
     "output_type": "execute_result"
    }
   ],
   "source": [
    "test = pd.read_csv(\"test_group.csv\")\n",
    "test.head()"
   ]
  },
  {
   "cell_type": "code",
   "execution_count": 9,
   "id": "38eaa9bc-30bf-4c4a-8ff0-6a8b8fd22ac3",
   "metadata": {},
   "outputs": [
    {
     "data": {
      "text/plain": [
       "(4.000769230769231, 0.4795825306420973, 130)"
      ]
     },
     "execution_count": 9,
     "metadata": {},
     "output_type": "execute_result"
    }
   ],
   "source": [
    "# CONTROL-GROUP (REQUIREMENTS)\n",
    "\n",
    "control_mean = control.recovery_time_hrs.mean()\n",
    "control_std = control.recovery_time_hrs.std()\n",
    "control_sample_SIZE = control.shape[0]\n",
    "\n",
    "control_mean, control_std, control_sample_SIZE"
   ]
  },
  {
   "cell_type": "code",
   "execution_count": 21,
   "id": "6a28b709-4dfd-43fe-9336-78c3910a48d9",
   "metadata": {},
   "outputs": [
    {
     "data": {
      "text/plain": [
       "(3.9119999999999995, 0.3156778821085274, 100)"
      ]
     },
     "execution_count": 21,
     "metadata": {},
     "output_type": "execute_result"
    }
   ],
   "source": [
    "# TEST-GROUP (REQUIREMENTS)\n",
    "\n",
    "test_mean = test.recovery_time_hrs.mean()\n",
    "test_std = test.recovery_time_hrs.std()\n",
    "test_sample_SIZE = test.shape[0]\n",
    "\n",
    "test_mean, test_std, test_sample_SIZE"
   ]
  },
  {
   "cell_type": "markdown",
   "id": "289759b4-67ed-4137-97e6-be10e173848b",
   "metadata": {},
   "source": [
    "## We have to find out the collective z-score of both the samples so :"
   ]
  },
  {
   "cell_type": "code",
   "execution_count": 24,
   "id": "536351ea-4497-412a-9a13-ffe57fed1a6d",
   "metadata": {},
   "outputs": [
    {
     "data": {
      "text/plain": [
       "1.6879356404645995"
      ]
     },
     "execution_count": 24,
     "metadata": {},
     "output_type": "execute_result"
    }
   ],
   "source": [
    "# Step 1: Calculate the variance for each group (std^2 / sample_size)\n",
    "variance_control = (control_std ** 2) / control_sample_SIZE\n",
    "variance_test = (test_std ** 2) / test_sample_SIZE\n",
    "\n",
    "# Step 2: Add the variances\n",
    "combined_variance = variance_control + variance_test\n",
    "\n",
    "# Step 3: Take the square root to get the combined standard error\n",
    "combined_standard_error_correct = np.sqrt(combined_variance)\n",
    "\n",
    "# Step 4: Calculate the Z-score using the correct combined standard error\n",
    "Z_score = (control_mean - test_mean) / combined_standard_error_correct\n",
    "Z_score"
   ]
  },
  {
   "cell_type": "code",
   "execution_count": 26,
   "id": "9a682222-9f6c-47eb-8273-7c4a053cfece",
   "metadata": {},
   "outputs": [
    {
     "data": {
      "text/plain": [
       "1.644853626951472"
      ]
     },
     "execution_count": 26,
     "metadata": {},
     "output_type": "execute_result"
    }
   ],
   "source": [
    "from scipy import stats as st\n",
    "\n",
    "# For a significance level of 5% (0.05) in a right-tailed test, the critical Z-value is approximately 1.645\n",
    "\n",
    "alpha = 0.05 # significance level of 5%\n",
    "\n",
    "z_crit = st.norm.ppf(1 - alpha)\n",
    "z_crit"
   ]
  },
  {
   "cell_type": "code",
   "execution_count": null,
   "id": "63dacf99-fb3b-4d6a-8b1d-8d136868b885",
   "metadata": {},
   "outputs": [],
   "source": [
    "# if the [z_score > z_crit] then sample is lying in rejection region so we reject the null hypothesis"
   ]
  },
  {
   "cell_type": "code",
   "execution_count": 27,
   "id": "4a63aa92-7a85-46c2-b06f-d14774776250",
   "metadata": {},
   "outputs": [
    {
     "data": {
      "text/plain": [
       "True"
      ]
     },
     "execution_count": 27,
     "metadata": {},
     "output_type": "execute_result"
    }
   ],
   "source": [
    "Z_score > z_crit"
   ]
  },
  {
   "cell_type": "code",
   "execution_count": 35,
   "id": "99968459-0ea1-4069-a789-7597af89223a",
   "metadata": {},
   "outputs": [
    {
     "data": {
      "text/plain": [
       "0.045711792064650814"
      ]
     },
     "execution_count": 35,
     "metadata": {},
     "output_type": "execute_result"
    }
   ],
   "source": [
    "# Calculate the p-value corresponding to z score for a right-tailed test\n",
    "\n",
    "p_value = 1 - st.norm.cdf(Z_score)\n",
    "p_value"
   ]
  },
  {
   "cell_type": "code",
   "execution_count": 29,
   "id": "31860230-bbf8-4c38-a782-922ec8f0f187",
   "metadata": {},
   "outputs": [
    {
     "data": {
      "text/plain": [
       "True"
      ]
     },
     "execution_count": 29,
     "metadata": {},
     "output_type": "execute_result"
    }
   ],
   "source": [
    "p_value < alpha # p value is less than significance level of 5% (or 0.05 for absolute value)"
   ]
  },
  {
   "cell_type": "code",
   "execution_count": null,
   "id": "ba0485ba-226f-4f98-ac07-720a0deb4b88",
   "metadata": {},
   "outputs": [],
   "source": []
  }
 ],
 "metadata": {
  "kernelspec": {
   "display_name": "Python 3 (ipykernel)",
   "language": "python",
   "name": "python3"
  },
  "language_info": {
   "codemirror_mode": {
    "name": "ipython",
    "version": 3
   },
   "file_extension": ".py",
   "mimetype": "text/x-python",
   "name": "python",
   "nbconvert_exporter": "python",
   "pygments_lexer": "ipython3",
   "version": "3.12.2"
  }
 },
 "nbformat": 4,
 "nbformat_minor": 5
}
